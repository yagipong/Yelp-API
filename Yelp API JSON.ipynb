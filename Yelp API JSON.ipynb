{
 "cells": [
  {
   "cell_type": "code",
   "execution_count": 1,
   "id": "02c8460d",
   "metadata": {},
   "outputs": [
    {
     "data": {
      "text/plain": [
       "dict_keys(['client-id', 'api-key'])"
      ]
     },
     "execution_count": 1,
     "metadata": {},
     "output_type": "execute_result"
    }
   ],
   "source": [
    "import json\n",
    "with open('/Users/yawagipong/.secret/yelp_api.json') as f:\n",
    "    login = json.load(f)\n",
    "login.keys()"
   ]
  },
  {
   "cell_type": "code",
   "execution_count": 2,
   "id": "8551f503",
   "metadata": {},
   "outputs": [
    {
     "name": "stdout",
     "output_type": "stream",
     "text": [
      "Requirement already satisfied: yelpapi in /opt/homebrew/Caskroom/miniforge/base/envs/dojo-env/lib/python3.9/site-packages (2.5.0)\r\n",
      "Requirement already satisfied: requests in /opt/homebrew/Caskroom/miniforge/base/envs/dojo-env/lib/python3.9/site-packages (from yelpapi) (2.28.1)\r\n",
      "Requirement already satisfied: charset-normalizer<3,>=2 in /opt/homebrew/Caskroom/miniforge/base/envs/dojo-env/lib/python3.9/site-packages (from requests->yelpapi) (2.0.4)\r\n",
      "Requirement already satisfied: certifi>=2017.4.17 in /opt/homebrew/Caskroom/miniforge/base/envs/dojo-env/lib/python3.9/site-packages (from requests->yelpapi) (2022.9.24)\r\n",
      "Requirement already satisfied: idna<4,>=2.5 in /opt/homebrew/Caskroom/miniforge/base/envs/dojo-env/lib/python3.9/site-packages (from requests->yelpapi) (3.4)\r\n",
      "Requirement already satisfied: urllib3<1.27,>=1.21.1 in /opt/homebrew/Caskroom/miniforge/base/envs/dojo-env/lib/python3.9/site-packages (from requests->yelpapi) (1.26.13)\r\n"
     ]
    }
   ],
   "source": [
    "!pip install yelpapi"
   ]
  },
  {
   "cell_type": "code",
   "execution_count": 3,
   "id": "be67ad8a",
   "metadata": {},
   "outputs": [
    {
     "data": {
      "text/plain": [
       "<yelpapi.yelpapi.YelpAPI at 0x105effc10>"
      ]
     },
     "execution_count": 3,
     "metadata": {},
     "output_type": "execute_result"
    }
   ],
   "source": [
    "from yelpapi import YelpAPI\n",
    "yelp_api = YelpAPI(login['api-key'], timeout_s = 5.0)\n",
    "yelp_api"
   ]
  },
  {
   "cell_type": "code",
   "execution_count": 4,
   "id": "f7a7280c",
   "metadata": {},
   "outputs": [
    {
     "name": "stdout",
     "output_type": "stream",
     "text": [
      "<class 'dict'>\n"
     ]
    },
    {
     "data": {
      "text/plain": [
       "dict_keys(['businesses', 'total', 'region'])"
      ]
     },
     "execution_count": 4,
     "metadata": {},
     "output_type": "execute_result"
    }
   ],
   "source": [
    "results = yelp_api.search_query(location = 'Baltimore, MD', \n",
    "                                term = 'Crab Cake')\n",
    "print(type(results))\n",
    "results.keys()"
   ]
  },
  {
   "cell_type": "code",
   "execution_count": 5,
   "id": "ea17fec3",
   "metadata": {},
   "outputs": [],
   "source": [
    "import json"
   ]
  },
  {
   "cell_type": "code",
   "execution_count": 6,
   "id": "79a3d3c2",
   "metadata": {},
   "outputs": [
    {
     "data": {
      "text/plain": [
       "{'stack': 4,\n",
       " 'week': 2,\n",
       " 'things learned': ['MySQL',\n",
       "  'MySQL Workbench',\n",
       "  'GitHub Desktop',\n",
       "  'Jupyter Notebooks',\n",
       "  'JSON']}"
      ]
     },
     "execution_count": 6,
     "metadata": {},
     "output_type": "execute_result"
    }
   ],
   "source": [
    "data = {'stack': 4, 'week': 2,\n",
    "       'things learned': ['MySQL', 'MySQL Workbench',\n",
    "                         'GitHub Desktop', 'Jupyter Notebooks', 'JSON']}\n",
    "\n",
    "data"
   ]
  },
  {
   "cell_type": "code",
   "execution_count": 7,
   "id": "abc6c8e0",
   "metadata": {},
   "outputs": [],
   "source": [
    "with open('example_saved_data.json', 'w') as f:\n",
    "    json.dump(data, f)"
   ]
  },
  {
   "cell_type": "code",
   "execution_count": 8,
   "id": "58cc2e88",
   "metadata": {},
   "outputs": [
    {
     "data": {
      "text/plain": [
       "{'stack': 4,\n",
       " 'week': 2,\n",
       " 'things learned': ['MySQL',\n",
       "  'MySQL Workbench',\n",
       "  'GitHub Desktop',\n",
       "  'Jupyter Notebooks',\n",
       "  'JSON']}"
      ]
     },
     "execution_count": 8,
     "metadata": {},
     "output_type": "execute_result"
    }
   ],
   "source": [
    "with open('example_saved_data.json') as f:\n",
    "    loaded = json.load(f)\n",
    "    \n",
    "loaded"
   ]
  },
  {
   "cell_type": "code",
   "execution_count": 9,
   "id": "c8102ebf",
   "metadata": {},
   "outputs": [
    {
     "name": "stdout",
     "output_type": "stream",
     "text": [
      "<class 'dict'>\n"
     ]
    },
    {
     "data": {
      "text/plain": [
       "dict_keys(['stack', 'week', 'things learned'])"
      ]
     },
     "execution_count": 9,
     "metadata": {},
     "output_type": "execute_result"
    }
   ],
   "source": [
    "print(type(loaded))\n",
    "loaded.keys()"
   ]
  },
  {
   "cell_type": "code",
   "execution_count": 10,
   "id": "b1766de2",
   "metadata": {},
   "outputs": [
    {
     "data": {
      "text/plain": [
       "dict"
      ]
     },
     "execution_count": 10,
     "metadata": {},
     "output_type": "execute_result"
    }
   ],
   "source": [
    "with open('example_yelp_results.json') as f:\n",
    "    json_file = json.load(f)\n",
    "    \n",
    "type(json_file)"
   ]
  },
  {
   "cell_type": "code",
   "execution_count": 11,
   "id": "19f009e4",
   "metadata": {},
   "outputs": [
    {
     "data": {
      "text/plain": [
       "dict_keys(['businesses', 'total', 'region'])"
      ]
     },
     "execution_count": 11,
     "metadata": {},
     "output_type": "execute_result"
    }
   ],
   "source": [
    "json_file.keys()"
   ]
  },
  {
   "cell_type": "code",
   "execution_count": 21,
   "id": "a73cdb46",
   "metadata": {},
   "outputs": [
    {
     "name": "stdout",
     "output_type": "stream",
     "text": [
      "<class 'dict'>\n"
     ]
    },
    {
     "data": {
      "text/plain": [
       "dict_keys(['businesses', 'total', 'region'])"
      ]
     },
     "execution_count": 21,
     "metadata": {},
     "output_type": "execute_result"
    }
   ],
   "source": [
    "search_results = yelp_api.search_query(location = 'NY, NY',\n",
    "                                      term = 'Pizza')\n",
    "\n",
    "print(type(search_results))\n",
    "search_results.keys()"
   ]
  },
  {
   "cell_type": "code",
   "execution_count": 22,
   "id": "946984b5",
   "metadata": {},
   "outputs": [
    {
     "name": "stdout",
     "output_type": "stream",
     "text": [
      "15700\n",
      "20\n"
     ]
    }
   ],
   "source": [
    "print(search_results['total'])\n",
    "print(len(search_results['businesses']))"
   ]
  },
  {
   "cell_type": "code",
   "execution_count": 23,
   "id": "d935b94f",
   "metadata": {},
   "outputs": [
    {
     "data": {
      "text/html": [
       "<div>\n",
       "<style scoped>\n",
       "    .dataframe tbody tr th:only-of-type {\n",
       "        vertical-align: middle;\n",
       "    }\n",
       "\n",
       "    .dataframe tbody tr th {\n",
       "        vertical-align: top;\n",
       "    }\n",
       "\n",
       "    .dataframe thead th {\n",
       "        text-align: right;\n",
       "    }\n",
       "</style>\n",
       "<table border=\"1\" class=\"dataframe\">\n",
       "  <thead>\n",
       "    <tr style=\"text-align: right;\">\n",
       "      <th></th>\n",
       "      <th>id</th>\n",
       "      <th>alias</th>\n",
       "      <th>name</th>\n",
       "      <th>image_url</th>\n",
       "      <th>is_closed</th>\n",
       "      <th>url</th>\n",
       "      <th>review_count</th>\n",
       "      <th>categories</th>\n",
       "      <th>rating</th>\n",
       "      <th>coordinates</th>\n",
       "      <th>transactions</th>\n",
       "      <th>price</th>\n",
       "      <th>location</th>\n",
       "      <th>phone</th>\n",
       "      <th>display_phone</th>\n",
       "      <th>distance</th>\n",
       "    </tr>\n",
       "  </thead>\n",
       "  <tbody>\n",
       "    <tr>\n",
       "      <th>0</th>\n",
       "      <td>zj8Lq1T8KIC5zwFief15jg</td>\n",
       "      <td>prince-street-pizza-new-york-2</td>\n",
       "      <td>Prince Street Pizza</td>\n",
       "      <td>https://s3-media2.fl.yelpcdn.com/bphoto/I4gm7i...</td>\n",
       "      <td>False</td>\n",
       "      <td>https://www.yelp.com/biz/prince-street-pizza-n...</td>\n",
       "      <td>4744</td>\n",
       "      <td>[{'alias': 'pizza', 'title': 'Pizza'}, {'alias...</td>\n",
       "      <td>4.5</td>\n",
       "      <td>{'latitude': 40.72308755605564, 'longitude': -...</td>\n",
       "      <td>[delivery, pickup]</td>\n",
       "      <td>$</td>\n",
       "      <td>{'address1': '27 Prince St', 'address2': None,...</td>\n",
       "      <td>+12129664100</td>\n",
       "      <td>(212) 966-4100</td>\n",
       "      <td>2209.311618</td>\n",
       "    </tr>\n",
       "    <tr>\n",
       "      <th>1</th>\n",
       "      <td>ysqgdbSrezXgVwER2kQWKA</td>\n",
       "      <td>julianas-brooklyn-3</td>\n",
       "      <td>Juliana's</td>\n",
       "      <td>https://s3-media2.fl.yelpcdn.com/bphoto/NVoLFl...</td>\n",
       "      <td>False</td>\n",
       "      <td>https://www.yelp.com/biz/julianas-brooklyn-3?a...</td>\n",
       "      <td>2601</td>\n",
       "      <td>[{'alias': 'pizza', 'title': 'Pizza'}]</td>\n",
       "      <td>4.5</td>\n",
       "      <td>{'latitude': 40.70274718768062, 'longitude': -...</td>\n",
       "      <td>[delivery]</td>\n",
       "      <td>$$</td>\n",
       "      <td>{'address1': '19 Old Fulton St', 'address2': '...</td>\n",
       "      <td>+17185966700</td>\n",
       "      <td>(718) 596-6700</td>\n",
       "      <td>1289.857286</td>\n",
       "    </tr>\n",
       "  </tbody>\n",
       "</table>\n",
       "</div>"
      ],
      "text/plain": [
       "                       id                           alias  \\\n",
       "0  zj8Lq1T8KIC5zwFief15jg  prince-street-pizza-new-york-2   \n",
       "1  ysqgdbSrezXgVwER2kQWKA             julianas-brooklyn-3   \n",
       "\n",
       "                  name                                          image_url  \\\n",
       "0  Prince Street Pizza  https://s3-media2.fl.yelpcdn.com/bphoto/I4gm7i...   \n",
       "1            Juliana's  https://s3-media2.fl.yelpcdn.com/bphoto/NVoLFl...   \n",
       "\n",
       "   is_closed                                                url  review_count  \\\n",
       "0      False  https://www.yelp.com/biz/prince-street-pizza-n...          4744   \n",
       "1      False  https://www.yelp.com/biz/julianas-brooklyn-3?a...          2601   \n",
       "\n",
       "                                          categories  rating  \\\n",
       "0  [{'alias': 'pizza', 'title': 'Pizza'}, {'alias...     4.5   \n",
       "1             [{'alias': 'pizza', 'title': 'Pizza'}]     4.5   \n",
       "\n",
       "                                         coordinates        transactions  \\\n",
       "0  {'latitude': 40.72308755605564, 'longitude': -...  [delivery, pickup]   \n",
       "1  {'latitude': 40.70274718768062, 'longitude': -...          [delivery]   \n",
       "\n",
       "  price                                           location         phone  \\\n",
       "0     $  {'address1': '27 Prince St', 'address2': None,...  +12129664100   \n",
       "1    $$  {'address1': '19 Old Fulton St', 'address2': '...  +17185966700   \n",
       "\n",
       "    display_phone     distance  \n",
       "0  (212) 966-4100  2209.311618  \n",
       "1  (718) 596-6700  1289.857286  "
      ]
     },
     "execution_count": 23,
     "metadata": {},
     "output_type": "execute_result"
    }
   ],
   "source": [
    "import pandas as pd\n",
    "biz = pd.DataFrame(search_results['businesses'])\n",
    "biz.head(2)"
   ]
  },
  {
   "cell_type": "code",
   "execution_count": 24,
   "id": "8e604eca",
   "metadata": {},
   "outputs": [],
   "source": [
    "search_results = yelp_api.search_query(location = 'NY, NY',\n",
    "                                      term = 'Pizza',\n",
    "                                      offset = 20)"
   ]
  },
  {
   "cell_type": "code",
   "execution_count": 25,
   "id": "4f246a71",
   "metadata": {},
   "outputs": [
    {
     "data": {
      "text/html": [
       "<div>\n",
       "<style scoped>\n",
       "    .dataframe tbody tr th:only-of-type {\n",
       "        vertical-align: middle;\n",
       "    }\n",
       "\n",
       "    .dataframe tbody tr th {\n",
       "        vertical-align: top;\n",
       "    }\n",
       "\n",
       "    .dataframe thead th {\n",
       "        text-align: right;\n",
       "    }\n",
       "</style>\n",
       "<table border=\"1\" class=\"dataframe\">\n",
       "  <thead>\n",
       "    <tr style=\"text-align: right;\">\n",
       "      <th></th>\n",
       "      <th>id</th>\n",
       "      <th>alias</th>\n",
       "      <th>name</th>\n",
       "      <th>image_url</th>\n",
       "      <th>is_closed</th>\n",
       "      <th>url</th>\n",
       "      <th>review_count</th>\n",
       "      <th>categories</th>\n",
       "      <th>rating</th>\n",
       "      <th>coordinates</th>\n",
       "      <th>transactions</th>\n",
       "      <th>location</th>\n",
       "      <th>phone</th>\n",
       "      <th>display_phone</th>\n",
       "      <th>distance</th>\n",
       "      <th>price</th>\n",
       "    </tr>\n",
       "  </thead>\n",
       "  <tbody>\n",
       "    <tr>\n",
       "      <th>0</th>\n",
       "      <td>affWh2WFSMayL04l9lr47g</td>\n",
       "      <td>roberta-s-brooklyn</td>\n",
       "      <td>Roberta’s</td>\n",
       "      <td>https://s3-media1.fl.yelpcdn.com/bphoto/rdK-so...</td>\n",
       "      <td>False</td>\n",
       "      <td>https://www.yelp.com/biz/roberta-s-brooklyn?ad...</td>\n",
       "      <td>11</td>\n",
       "      <td>[{'alias': 'pizza', 'title': 'Pizza'}]</td>\n",
       "      <td>4.0</td>\n",
       "      <td>{'latitude': 40.71613781459604, 'longitude': -...</td>\n",
       "      <td>[]</td>\n",
       "      <td>{'address1': '6 Grand St', 'address2': '', 'ad...</td>\n",
       "      <td></td>\n",
       "      <td></td>\n",
       "      <td>1471.462333</td>\n",
       "      <td>NaN</td>\n",
       "    </tr>\n",
       "    <tr>\n",
       "      <th>1</th>\n",
       "      <td>REC_m1Y4caJIXz8DDdgh-A</td>\n",
       "      <td>mels-new-york-6</td>\n",
       "      <td>Mels</td>\n",
       "      <td>https://s3-media3.fl.yelpcdn.com/bphoto/PUochz...</td>\n",
       "      <td>False</td>\n",
       "      <td>https://www.yelp.com/biz/mels-new-york-6?adjus...</td>\n",
       "      <td>54</td>\n",
       "      <td>[{'alias': 'pizza', 'title': 'Pizza'}, {'alias...</td>\n",
       "      <td>4.5</td>\n",
       "      <td>{'latitude': 40.74303, 'longitude': -74.00779}</td>\n",
       "      <td>[]</td>\n",
       "      <td>{'address1': '85 10th Ave', 'address2': '', 'a...</td>\n",
       "      <td>+12129702202</td>\n",
       "      <td>(212) 970-2202</td>\n",
       "      <td>4710.484386</td>\n",
       "      <td>NaN</td>\n",
       "    </tr>\n",
       "  </tbody>\n",
       "</table>\n",
       "</div>"
      ],
      "text/plain": [
       "                       id               alias       name  \\\n",
       "0  affWh2WFSMayL04l9lr47g  roberta-s-brooklyn  Roberta’s   \n",
       "1  REC_m1Y4caJIXz8DDdgh-A     mels-new-york-6       Mels   \n",
       "\n",
       "                                           image_url  is_closed  \\\n",
       "0  https://s3-media1.fl.yelpcdn.com/bphoto/rdK-so...      False   \n",
       "1  https://s3-media3.fl.yelpcdn.com/bphoto/PUochz...      False   \n",
       "\n",
       "                                                 url  review_count  \\\n",
       "0  https://www.yelp.com/biz/roberta-s-brooklyn?ad...            11   \n",
       "1  https://www.yelp.com/biz/mels-new-york-6?adjus...            54   \n",
       "\n",
       "                                          categories  rating  \\\n",
       "0             [{'alias': 'pizza', 'title': 'Pizza'}]     4.0   \n",
       "1  [{'alias': 'pizza', 'title': 'Pizza'}, {'alias...     4.5   \n",
       "\n",
       "                                         coordinates transactions  \\\n",
       "0  {'latitude': 40.71613781459604, 'longitude': -...           []   \n",
       "1     {'latitude': 40.74303, 'longitude': -74.00779}           []   \n",
       "\n",
       "                                            location         phone  \\\n",
       "0  {'address1': '6 Grand St', 'address2': '', 'ad...                 \n",
       "1  {'address1': '85 10th Ave', 'address2': '', 'a...  +12129702202   \n",
       "\n",
       "    display_phone     distance price  \n",
       "0                  1471.462333   NaN  \n",
       "1  (212) 970-2202  4710.484386   NaN  "
      ]
     },
     "execution_count": 25,
     "metadata": {},
     "output_type": "execute_result"
    }
   ],
   "source": [
    "biz20 = pd.DataFrame(search_results['businesses'])\n",
    "biz20.head(2)"
   ]
  },
  {
   "cell_type": "code",
   "execution_count": 26,
   "id": "393abec1",
   "metadata": {},
   "outputs": [
    {
     "data": {
      "text/html": [
       "<div>\n",
       "<style scoped>\n",
       "    .dataframe tbody tr th:only-of-type {\n",
       "        vertical-align: middle;\n",
       "    }\n",
       "\n",
       "    .dataframe tbody tr th {\n",
       "        vertical-align: top;\n",
       "    }\n",
       "\n",
       "    .dataframe thead th {\n",
       "        text-align: right;\n",
       "    }\n",
       "</style>\n",
       "<table border=\"1\" class=\"dataframe\">\n",
       "  <thead>\n",
       "    <tr style=\"text-align: right;\">\n",
       "      <th></th>\n",
       "      <th>id</th>\n",
       "      <th>alias</th>\n",
       "      <th>name</th>\n",
       "      <th>image_url</th>\n",
       "      <th>is_closed</th>\n",
       "      <th>url</th>\n",
       "      <th>review_count</th>\n",
       "      <th>categories</th>\n",
       "      <th>rating</th>\n",
       "      <th>coordinates</th>\n",
       "      <th>transactions</th>\n",
       "      <th>price</th>\n",
       "      <th>location</th>\n",
       "      <th>phone</th>\n",
       "      <th>display_phone</th>\n",
       "      <th>distance</th>\n",
       "    </tr>\n",
       "  </thead>\n",
       "  <tbody>\n",
       "    <tr>\n",
       "      <th>0</th>\n",
       "      <td>zj8Lq1T8KIC5zwFief15jg</td>\n",
       "      <td>prince-street-pizza-new-york-2</td>\n",
       "      <td>Prince Street Pizza</td>\n",
       "      <td>https://s3-media2.fl.yelpcdn.com/bphoto/I4gm7i...</td>\n",
       "      <td>False</td>\n",
       "      <td>https://www.yelp.com/biz/prince-street-pizza-n...</td>\n",
       "      <td>4744</td>\n",
       "      <td>[{'alias': 'pizza', 'title': 'Pizza'}, {'alias...</td>\n",
       "      <td>4.5</td>\n",
       "      <td>{'latitude': 40.72308755605564, 'longitude': -...</td>\n",
       "      <td>[delivery, pickup]</td>\n",
       "      <td>$</td>\n",
       "      <td>{'address1': '27 Prince St', 'address2': None,...</td>\n",
       "      <td>+12129664100</td>\n",
       "      <td>(212) 966-4100</td>\n",
       "      <td>2209.311618</td>\n",
       "    </tr>\n",
       "    <tr>\n",
       "      <th>1</th>\n",
       "      <td>ysqgdbSrezXgVwER2kQWKA</td>\n",
       "      <td>julianas-brooklyn-3</td>\n",
       "      <td>Juliana's</td>\n",
       "      <td>https://s3-media2.fl.yelpcdn.com/bphoto/NVoLFl...</td>\n",
       "      <td>False</td>\n",
       "      <td>https://www.yelp.com/biz/julianas-brooklyn-3?a...</td>\n",
       "      <td>2601</td>\n",
       "      <td>[{'alias': 'pizza', 'title': 'Pizza'}]</td>\n",
       "      <td>4.5</td>\n",
       "      <td>{'latitude': 40.70274718768062, 'longitude': -...</td>\n",
       "      <td>[delivery]</td>\n",
       "      <td>$$</td>\n",
       "      <td>{'address1': '19 Old Fulton St', 'address2': '...</td>\n",
       "      <td>+17185966700</td>\n",
       "      <td>(718) 596-6700</td>\n",
       "      <td>1289.857286</td>\n",
       "    </tr>\n",
       "  </tbody>\n",
       "</table>\n",
       "</div>"
      ],
      "text/plain": [
       "                       id                           alias  \\\n",
       "0  zj8Lq1T8KIC5zwFief15jg  prince-street-pizza-new-york-2   \n",
       "1  ysqgdbSrezXgVwER2kQWKA             julianas-brooklyn-3   \n",
       "\n",
       "                  name                                          image_url  \\\n",
       "0  Prince Street Pizza  https://s3-media2.fl.yelpcdn.com/bphoto/I4gm7i...   \n",
       "1            Juliana's  https://s3-media2.fl.yelpcdn.com/bphoto/NVoLFl...   \n",
       "\n",
       "   is_closed                                                url  review_count  \\\n",
       "0      False  https://www.yelp.com/biz/prince-street-pizza-n...          4744   \n",
       "1      False  https://www.yelp.com/biz/julianas-brooklyn-3?a...          2601   \n",
       "\n",
       "                                          categories  rating  \\\n",
       "0  [{'alias': 'pizza', 'title': 'Pizza'}, {'alias...     4.5   \n",
       "1             [{'alias': 'pizza', 'title': 'Pizza'}]     4.5   \n",
       "\n",
       "                                         coordinates        transactions  \\\n",
       "0  {'latitude': 40.72308755605564, 'longitude': -...  [delivery, pickup]   \n",
       "1  {'latitude': 40.70274718768062, 'longitude': -...          [delivery]   \n",
       "\n",
       "  price                                           location         phone  \\\n",
       "0     $  {'address1': '27 Prince St', 'address2': None,...  +12129664100   \n",
       "1    $$  {'address1': '19 Old Fulton St', 'address2': '...  +17185966700   \n",
       "\n",
       "    display_phone     distance  \n",
       "0  (212) 966-4100  2209.311618  \n",
       "1  (718) 596-6700  1289.857286  "
      ]
     },
     "metadata": {},
     "output_type": "display_data"
    },
    {
     "data": {
      "text/html": [
       "<div>\n",
       "<style scoped>\n",
       "    .dataframe tbody tr th:only-of-type {\n",
       "        vertical-align: middle;\n",
       "    }\n",
       "\n",
       "    .dataframe tbody tr th {\n",
       "        vertical-align: top;\n",
       "    }\n",
       "\n",
       "    .dataframe thead th {\n",
       "        text-align: right;\n",
       "    }\n",
       "</style>\n",
       "<table border=\"1\" class=\"dataframe\">\n",
       "  <thead>\n",
       "    <tr style=\"text-align: right;\">\n",
       "      <th></th>\n",
       "      <th>id</th>\n",
       "      <th>alias</th>\n",
       "      <th>name</th>\n",
       "      <th>image_url</th>\n",
       "      <th>is_closed</th>\n",
       "      <th>url</th>\n",
       "      <th>review_count</th>\n",
       "      <th>categories</th>\n",
       "      <th>rating</th>\n",
       "      <th>coordinates</th>\n",
       "      <th>transactions</th>\n",
       "      <th>price</th>\n",
       "      <th>location</th>\n",
       "      <th>phone</th>\n",
       "      <th>display_phone</th>\n",
       "      <th>distance</th>\n",
       "    </tr>\n",
       "  </thead>\n",
       "  <tbody>\n",
       "    <tr>\n",
       "      <th>38</th>\n",
       "      <td>ApZ_j43jjSZQe2AMDdO46w</td>\n",
       "      <td>grand-street-pizza-new-york</td>\n",
       "      <td>Grand Street Pizza</td>\n",
       "      <td>https://s3-media2.fl.yelpcdn.com/bphoto/ypw5OQ...</td>\n",
       "      <td>False</td>\n",
       "      <td>https://www.yelp.com/biz/grand-street-pizza-ne...</td>\n",
       "      <td>27</td>\n",
       "      <td>[{'alias': 'pizza', 'title': 'Pizza'}]</td>\n",
       "      <td>4.5</td>\n",
       "      <td>{'latitude': 40.7164, 'longitude': -73.98767}</td>\n",
       "      <td>[pickup, delivery]</td>\n",
       "      <td>NaN</td>\n",
       "      <td>{'address1': '384 Grand St', 'address2': '', '...</td>\n",
       "      <td>+16469186194</td>\n",
       "      <td>(646) 918-6194</td>\n",
       "      <td>1276.253356</td>\n",
       "    </tr>\n",
       "    <tr>\n",
       "      <th>39</th>\n",
       "      <td>CiRj1B-gK5tRfbMkq3SBog</td>\n",
       "      <td>robertas-new-york-3</td>\n",
       "      <td>Roberta's</td>\n",
       "      <td>https://s3-media3.fl.yelpcdn.com/bphoto/__bI5t...</td>\n",
       "      <td>False</td>\n",
       "      <td>https://www.yelp.com/biz/robertas-new-york-3?a...</td>\n",
       "      <td>4</td>\n",
       "      <td>[{'alias': 'pizza', 'title': 'Pizza'}]</td>\n",
       "      <td>5.0</td>\n",
       "      <td>{'latitude': 40.71995520720623, 'longitude': -...</td>\n",
       "      <td>[pickup, delivery]</td>\n",
       "      <td>NaN</td>\n",
       "      <td>{'address1': '196 Stanton St', 'address2': '',...</td>\n",
       "      <td></td>\n",
       "      <td></td>\n",
       "      <td>1479.203775</td>\n",
       "    </tr>\n",
       "  </tbody>\n",
       "</table>\n",
       "</div>"
      ],
      "text/plain": [
       "                        id                        alias                name  \\\n",
       "38  ApZ_j43jjSZQe2AMDdO46w  grand-street-pizza-new-york  Grand Street Pizza   \n",
       "39  CiRj1B-gK5tRfbMkq3SBog          robertas-new-york-3           Roberta's   \n",
       "\n",
       "                                            image_url  is_closed  \\\n",
       "38  https://s3-media2.fl.yelpcdn.com/bphoto/ypw5OQ...      False   \n",
       "39  https://s3-media3.fl.yelpcdn.com/bphoto/__bI5t...      False   \n",
       "\n",
       "                                                  url  review_count  \\\n",
       "38  https://www.yelp.com/biz/grand-street-pizza-ne...            27   \n",
       "39  https://www.yelp.com/biz/robertas-new-york-3?a...             4   \n",
       "\n",
       "                                categories  rating  \\\n",
       "38  [{'alias': 'pizza', 'title': 'Pizza'}]     4.5   \n",
       "39  [{'alias': 'pizza', 'title': 'Pizza'}]     5.0   \n",
       "\n",
       "                                          coordinates        transactions  \\\n",
       "38      {'latitude': 40.7164, 'longitude': -73.98767}  [pickup, delivery]   \n",
       "39  {'latitude': 40.71995520720623, 'longitude': -...  [pickup, delivery]   \n",
       "\n",
       "   price                                           location         phone  \\\n",
       "38   NaN  {'address1': '384 Grand St', 'address2': '', '...  +16469186194   \n",
       "39   NaN  {'address1': '196 Stanton St', 'address2': '',...                 \n",
       "\n",
       "     display_phone     distance  \n",
       "38  (646) 918-6194  1276.253356  \n",
       "39                  1479.203775  "
      ]
     },
     "metadata": {},
     "output_type": "display_data"
    }
   ],
   "source": [
    "businesses = pd.concat([biz, biz20],\n",
    "                      ignore_index = True)\n",
    "display(businesses.head(2), businesses.tail(2))"
   ]
  },
  {
   "cell_type": "code",
   "execution_count": null,
   "id": "c71b416d",
   "metadata": {},
   "outputs": [],
   "source": []
  }
 ],
 "metadata": {
  "kernelspec": {
   "display_name": "Python (dojo-env)",
   "language": "python",
   "name": "dojo-env"
  },
  "language_info": {
   "codemirror_mode": {
    "name": "ipython",
    "version": 3
   },
   "file_extension": ".py",
   "mimetype": "text/x-python",
   "name": "python",
   "nbconvert_exporter": "python",
   "pygments_lexer": "ipython3",
   "version": "3.9.15"
  },
  "toc": {
   "base_numbering": 1,
   "nav_menu": {},
   "number_sections": false,
   "sideBar": true,
   "skip_h1_title": false,
   "title_cell": "Table of Contents",
   "title_sidebar": "Contents",
   "toc_cell": false,
   "toc_position": {},
   "toc_section_display": true,
   "toc_window_display": false
  }
 },
 "nbformat": 4,
 "nbformat_minor": 5
}
